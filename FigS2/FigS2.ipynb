{
 "cells": [
  {
   "cell_type": "markdown",
   "metadata": {},
   "source": [
    "### FIGURE S2\n",
    "© 2021. This work is licensed under a CC-BY-NC-SA license. \n",
    "\"Thalamo-cortical spiking model of incremental learning combining perception, context and NREM-sleep-mediated noise-resilience\"\n",
    "Authors: Bruno Golosio, Chiara De Luca, Cristiano Capone, Elena Pastorelli, Giovanni Stegel, Gianmarco Tiddia, Giulia De Bonis and Pier Stanislao Paolucci\n",
    "arxiv.2003.11859\n"
   ]
  },
  {
   "cell_type": "code",
   "execution_count": 1,
   "metadata": {},
   "outputs": [],
   "source": [
    "\n",
    "import numpy as np\n",
    "import matplotlib.pyplot as plt\n",
    "import os\n",
    "import scipy.io as sio\n",
    "\n",
    "%matplotlib inline"
   ]
  },
  {
   "cell_type": "code",
   "execution_count": 3,
   "metadata": {},
   "outputs": [],
   "source": [
    "SET = 0\n",
    "home = os.getcwd()\n",
    "loading_path = home + '/Data/'\n",
    "\n",
    "Alpha = 1.\n"
   ]
  },
  {
   "cell_type": "code",
   "execution_count": 4,
   "metadata": {},
   "outputs": [
    {
     "data": {
      "image/png": "[encoded data removed]",
      "text/plain": [
       "<Figure size 180x165.6 with 1 Axes>"
      ]
     },
     "metadata": {
      "needs_background": "light"
     },
     "output_type": "display_data"
    }
   ],
   "source": [
    "DeltaGroupPlt = np.load(loading_path + 'DeltaGroupPlt.npy')\n",
    "StdGroupPlt = np.load(loading_path + 'StdGroupPlt.npy')\n",
    "Alpha_Arr = np.load(loading_path + 'Alpha_Arr.npy')\n",
    "\n",
    "plt.figure(figsize = (2.5,2.3))\n",
    "#plt.errorbar(Alpha_Arr, DeltaClass, StdClass, label='Class')\n",
    "plt.errorbar(Alpha_Arr, DeltaGroupPlt, StdGroupPlt, color = [211./255., 84./255., 0./255.])\n",
    "#plt.errorbar(Alpha_Arr, DeltaReadout, StdReadout, label = 'Readout')\n",
    "#plt.legend()\n",
    "#plt.xlim([0.5,9.5])\n",
    "#plt.ylim([-0.2, 1.5])\n",
    "ax = plt.gca()\n",
    "ax.tick_params(axis = 'both', which = 'major', labelsize = 10.)\n",
    "plt.ylabel('delta accuracy [%]',fontsize=12)\n",
    "plt.xlabel(r'$\\alpha$',fontsize=12)\n",
    "plt.tight_layout()\n",
    "#plt.savefig(save_path + '/AccVsAlpha.eps', format='eps')\n"
   ]
  },
  {
   "cell_type": "code",
   "execution_count": 5,
   "metadata": {},
   "outputs": [
    {
     "data": {
      "image/png": "[encoded data removed]",
      "text/plain": [
       "<Figure size 93.6x86.4 with 1 Axes>"
      ]
     },
     "metadata": {
      "needs_background": "light"
     },
     "output_type": "display_data"
    }
   ],
   "source": [
    "\n",
    "UPDurationMEAN = np.load(loading_path + 'UPDurationMEAN.npy')\n",
    "UPDurationSTD = np.load(loading_path + 'UPDurationSTD.npy')\n",
    "Alpha_Arr = np.load(loading_path + 'Alpha_Arr.npy')\n",
    "\n",
    "plt.figure(figsize=(1.3,1.2))\n",
    "plt.errorbar(Alpha_Arr, UPDurationMEAN, UPDurationSTD, color = [146./255., 43./255., 33./255.])\n",
    "plt.xlabel(r'$\\alpha$', fontsize = 7.)\n",
    "plt.ylabel('UP duration [s]', fontsize = 7.)\n",
    "ax = plt.gca()\n",
    "ax.tick_params(axis = 'both', which = 'major', labelsize = 7.)\n",
    "plt.tight_layout()\n",
    "#plt.savefig(save_path + '/UpDurationVsAlpha.eps', format='eps')\n"
   ]
  },
  {
   "cell_type": "code",
   "execution_count": 6,
   "metadata": {},
   "outputs": [
    {
     "data": {
      "image/png": "[encoded data removed]",
      "text/plain": [
       "<Figure size 180x165.6 with 1 Axes>"
      ]
     },
     "metadata": {
      "needs_background": "light"
     },
     "output_type": "display_data"
    }
   ],
   "source": [
    "DeltaGr_Plot2 = np.load(loading_path + 'DeltaGr_Plot2.npy')\n",
    "UPDurationMEAN_Plot2 = np.load(loading_path + 'UPDurationMEAN_Plot2.npy')\n",
    "\n",
    "\n",
    "plt.figure(figsize=(2.5,2.3))\n",
    "plt.plot(UPDurationMEAN_Plot2, DeltaGr_Plot2, '--', label = 'no_label', color = [245./255., 176./255., 65./255.])\n",
    "plt.plot(UPDurationMEAN_Plot2, DeltaGr_Plot2, '.', label = 'Group', color = [211./255., 84./255., 0./255.])\n",
    "\n",
    "#plt.plot(UPDurationMEAN_Plot2, DeltaCl_Plot2, label = 'Group')\n",
    "ax = plt.gca()\n",
    "ax.tick_params(axis = 'both', which = 'major', labelsize = 10.)\n",
    "#plt.plot(UPDurationMEAN, DeltaGroup, color = [175./255., 96./255., 26./255.])\n",
    "plt.xlabel('UP duration [s]', fontsize = 12.)\n",
    "plt.ylabel('delta accuracy [%]', fontsize = 12.)\n",
    "plt.tight_layout()\n"
   ]
  },
  {
   "cell_type": "code",
   "execution_count": 7,
   "metadata": {},
   "outputs": [
    {
     "data": {
      "image/png": "[encoded data removed]",
      "text/plain": [
       "<Figure size 108x79.2 with 1 Axes>"
      ]
     },
     "metadata": {
      "needs_background": "light"
     },
     "output_type": "display_data"
    }
   ],
   "source": [
    "\n",
    "ratio = np.load(loading_path + 'ratio.npy')\n",
    "ratio_std = np.load(loading_path + 'ratio_std.npy')\n",
    "\n",
    "plt.figure(figsize=(1.5,1.1))\n",
    "\n",
    "plt.errorbar(Alpha_Arr, ratio, ratio_std, color = [146./255., 43./255., 33./255.])\n",
    "plt.xlabel(r'$\\alpha$', fontsize = 7.)\n",
    "plt.ylabel(r'$\\frac{var(f.r.)_{post}}{var(f.r.)_{pre}}$', fontsize = 7.)\n",
    "ax = plt.gca()\n",
    "ax.tick_params(axis = 'both', which = 'major', labelsize = 7.)\n",
    "ax.yaxis.set_ticks_position(\"right\")\n",
    "\n",
    "plt.tight_layout()\n"
   ]
  },
  {
   "cell_type": "code",
   "execution_count": 8,
   "metadata": {},
   "outputs": [
    {
     "data": {
      "image/png": "[encoded data removed]",
      "text/plain": [
       "<Figure size 180x180 with 1 Axes>"
      ]
     },
     "metadata": {
      "needs_background": "light"
     },
     "output_type": "display_data"
    }
   ],
   "source": [
    "DeltaGr_PlotRatio = np.load(loading_path + 'DeltaGr_PlotRatio.npy')\n",
    "RatioMEAN_Plot2 = np.load(loading_path + 'RatioMEAN_Plot2.npy')\n",
    "\n",
    "\n",
    "plt.figure(figsize=(2.5,2.5))\n",
    "plt.plot(RatioMEAN_Plot2, DeltaGr_PlotRatio, '--', label = 'no_label', color = [245./255., 176./255., 65./255.])\n",
    "plt.plot(RatioMEAN_Plot2, DeltaGr_PlotRatio, '.', label = 'Group', color = [211./255., 84./255., 0./255.])\n",
    "\n",
    "#plt.plot(UPDurationMEAN_Plot2, DeltaCl_Plot2, label = 'Group')\n",
    "ax = plt.gca()\n",
    "ax.tick_params(axis = 'both', which = 'major', labelsize = 10.)\n",
    "#plt.plot(UPDurationMEAN, DeltaGroup, color = [175./255., 96./255., 26./255.])\n",
    "plt.xlabel(r'$\\frac{var(f.r.)_{post}}{var(f.r.)_{pre}}$', fontsize = 12.)\n",
    "plt.ylabel('delta accuracy [%]', fontsize = 12.)\n",
    "plt.tight_layout()\n"
   ]
  },
  {
   "cell_type": "code",
   "execution_count": null,
   "metadata": {},
   "outputs": [],
   "source": []
  },
  {
   "cell_type": "code",
   "execution_count": null,
   "metadata": {},
   "outputs": [],
   "source": []
  },
  {
   "cell_type": "code",
   "execution_count": null,
   "metadata": {},
   "outputs": [],
   "source": []
  },
  {
   "cell_type": "code",
   "execution_count": null,
   "metadata": {},
   "outputs": [],
   "source": []
  },
  {
   "cell_type": "code",
   "execution_count": null,
   "metadata": {},
   "outputs": [],
   "source": []
  },
  {
   "cell_type": "code",
   "execution_count": null,
   "metadata": {},
   "outputs": [],
   "source": []
  },
  {
   "cell_type": "code",
   "execution_count": null,
   "metadata": {},
   "outputs": [],
   "source": []
  },
  {
   "cell_type": "code",
   "execution_count": null,
   "metadata": {},
   "outputs": [],
   "source": []
  },
  {
   "cell_type": "code",
   "execution_count": null,
   "metadata": {},
   "outputs": [],
   "source": []
  },
  {
   "cell_type": "code",
   "execution_count": null,
   "metadata": {},
   "outputs": [],
   "source": []
  },
  {
   "cell_type": "code",
   "execution_count": null,
   "metadata": {},
   "outputs": [],
   "source": []
  },
  {
   "cell_type": "code",
   "execution_count": null,
   "metadata": {},
   "outputs": [],
   "source": []
  },
  {
   "cell_type": "code",
   "execution_count": null,
   "metadata": {},
   "outputs": [],
   "source": []
  },
  {
   "cell_type": "code",
   "execution_count": null,
   "metadata": {},
   "outputs": [],
   "source": []
  },
  {
   "cell_type": "code",
   "execution_count": null,
   "metadata": {},
   "outputs": [],
   "source": [
    "\n"
   ]
  },
  {
   "cell_type": "markdown",
   "metadata": {},
   "source": [
    "## "
   ]
  },
  {
   "cell_type": "code",
   "execution_count": 33,
   "metadata": {},
   "outputs": [],
   "source": []
  },
  {
   "cell_type": "code",
   "execution_count": null,
   "metadata": {},
   "outputs": [],
   "source": []
  },
  {
   "cell_type": "code",
   "execution_count": null,
   "metadata": {},
   "outputs": [],
   "source": []
  }
 ],
 "metadata": {
  "kernelspec": {
   "display_name": "Python 3",
   "language": "python",
   "name": "python3"
  },
  "language_info": {
   "codemirror_mode": {
    "name": "ipython",
    "version": 3
   },
   "file_extension": ".py",
   "mimetype": "text/x-python",
   "name": "python",
   "nbconvert_exporter": "python",
   "pygments_lexer": "ipython3",
   "version": "3.8.5"
  }
 },
 "nbformat": 4,
 "nbformat_minor": 4
}
